{
 "cells": [
  {
   "cell_type": "code",
   "execution_count": 169,
   "metadata": {},
   "outputs": [],
   "source": [
    "import random, os\n",
    "import numpy as np\n",
    "import pandas as pd\n",
    "import seaborn as sns\n",
    "import matplotlib.pyplot as plt\n",
    "import torch\n",
    "import torch.nn as nn\n",
    "import torch.optim as optim\n",
    "import torch.nn.functional as F\n",
    "from torch.utils.data import Dataset, DataLoader\n",
    "from sklearn.preprocessing import StandardScaler\n",
    "from sklearn.model_selection import train_test_split\n",
    "from torchsummary import summary\n",
    "\n",
    "from sklearn.metrics import f1_score"
   ]
  },
  {
   "cell_type": "code",
   "execution_count": 56,
   "metadata": {},
   "outputs": [],
   "source": [
    "def seed_everything(seed: int):\n",
    "    random.seed(seed)\n",
    "    os.environ['PYTHONHASHSEED'] = str(seed)\n",
    "    np.random.seed(seed)\n",
    "    torch.manual_seed(seed)\n",
    "    \n",
    "seed_everything(69)"
   ]
  },
  {
   "cell_type": "code",
   "execution_count": 57,
   "metadata": {},
   "outputs": [
    {
     "name": "stdout",
     "output_type": "stream",
     "text": [
      "<class 'pandas.core.frame.DataFrame'>\n",
      "RangeIndex: 151200 entries, 0 to 151199\n",
      "Data columns (total 23 columns):\n",
      " #   Column           Non-Null Count   Dtype \n",
      "---  ------           --------------   ----- \n",
      " 0   ip.src           151200 non-null  object\n",
      " 1   ip.dst           151200 non-null  object\n",
      " 2   tcp.srcport      151200 non-null  int64 \n",
      " 3   tcp.dstport      151200 non-null  int64 \n",
      " 4   ip.proto         151200 non-null  int64 \n",
      " 5   frame.len        151200 non-null  int64 \n",
      " 6   tcp.flags.syn    151200 non-null  int64 \n",
      " 7   tcp.flags.reset  151200 non-null  int64 \n",
      " 8   tcp.flags.push   151200 non-null  int64 \n",
      " 9   tcp.flags.ack    151200 non-null  int64 \n",
      " 10  ip.flags.mf      151200 non-null  int64 \n",
      " 11  ip.flags.df      151200 non-null  int64 \n",
      " 12  ip.flags.rb      151200 non-null  int64 \n",
      " 13  tcp.seq          151200 non-null  int64 \n",
      " 14  tcp.ack          151200 non-null  int64 \n",
      " 15  frame.time       151200 non-null  object\n",
      " 16  Packets          151200 non-null  int64 \n",
      " 17  Bytes            151200 non-null  int64 \n",
      " 18  Tx Packets       151200 non-null  int64 \n",
      " 19  Tx Bytes         151200 non-null  int64 \n",
      " 20  Rx Packets       151200 non-null  int64 \n",
      " 21  Rx Bytes         151200 non-null  int64 \n",
      " 22  Label            151200 non-null  object\n",
      "dtypes: int64(19), object(4)\n",
      "memory usage: 26.5+ MB\n"
     ]
    }
   ],
   "source": [
    "ddos_data = pd.read_csv('/Users/irfanmasudi/DeepLearning/DDoS/APA-DDoS-Dataset.csv')\n",
    "ddos_data.info()"
   ]
  },
  {
   "cell_type": "code",
   "execution_count": 120,
   "metadata": {},
   "outputs": [
    {
     "data": {
      "text/html": [
       "<div>\n",
       "<style scoped>\n",
       "    .dataframe tbody tr th:only-of-type {\n",
       "        vertical-align: middle;\n",
       "    }\n",
       "\n",
       "    .dataframe tbody tr th {\n",
       "        vertical-align: top;\n",
       "    }\n",
       "\n",
       "    .dataframe thead th {\n",
       "        text-align: right;\n",
       "    }\n",
       "</style>\n",
       "<table border=\"1\" class=\"dataframe\">\n",
       "  <thead>\n",
       "    <tr style=\"text-align: right;\">\n",
       "      <th></th>\n",
       "      <th>tcp.srcport</th>\n",
       "      <th>frame.len</th>\n",
       "      <th>tcp.flags.push</th>\n",
       "      <th>ip.flags.df</th>\n",
       "      <th>Packets</th>\n",
       "      <th>Bytes</th>\n",
       "      <th>Tx Packets</th>\n",
       "      <th>Tx Bytes</th>\n",
       "      <th>Rx Packets</th>\n",
       "      <th>Rx Bytes</th>\n",
       "      <th>Label</th>\n",
       "    </tr>\n",
       "  </thead>\n",
       "  <tbody>\n",
       "    <tr>\n",
       "      <th>0</th>\n",
       "      <td>2412</td>\n",
       "      <td>54</td>\n",
       "      <td>1</td>\n",
       "      <td>0</td>\n",
       "      <td>8</td>\n",
       "      <td>432</td>\n",
       "      <td>4</td>\n",
       "      <td>216</td>\n",
       "      <td>4</td>\n",
       "      <td>216</td>\n",
       "      <td>DDoS-PSH-ACK</td>\n",
       "    </tr>\n",
       "    <tr>\n",
       "      <th>1</th>\n",
       "      <td>2413</td>\n",
       "      <td>54</td>\n",
       "      <td>1</td>\n",
       "      <td>0</td>\n",
       "      <td>10</td>\n",
       "      <td>540</td>\n",
       "      <td>5</td>\n",
       "      <td>270</td>\n",
       "      <td>5</td>\n",
       "      <td>270</td>\n",
       "      <td>DDoS-PSH-ACK</td>\n",
       "    </tr>\n",
       "    <tr>\n",
       "      <th>2</th>\n",
       "      <td>2414</td>\n",
       "      <td>54</td>\n",
       "      <td>1</td>\n",
       "      <td>0</td>\n",
       "      <td>12</td>\n",
       "      <td>648</td>\n",
       "      <td>6</td>\n",
       "      <td>324</td>\n",
       "      <td>6</td>\n",
       "      <td>324</td>\n",
       "      <td>DDoS-PSH-ACK</td>\n",
       "    </tr>\n",
       "    <tr>\n",
       "      <th>3</th>\n",
       "      <td>2415</td>\n",
       "      <td>54</td>\n",
       "      <td>1</td>\n",
       "      <td>0</td>\n",
       "      <td>10</td>\n",
       "      <td>540</td>\n",
       "      <td>5</td>\n",
       "      <td>270</td>\n",
       "      <td>5</td>\n",
       "      <td>270</td>\n",
       "      <td>DDoS-PSH-ACK</td>\n",
       "    </tr>\n",
       "    <tr>\n",
       "      <th>4</th>\n",
       "      <td>2416</td>\n",
       "      <td>54</td>\n",
       "      <td>1</td>\n",
       "      <td>0</td>\n",
       "      <td>6</td>\n",
       "      <td>324</td>\n",
       "      <td>3</td>\n",
       "      <td>162</td>\n",
       "      <td>3</td>\n",
       "      <td>162</td>\n",
       "      <td>DDoS-PSH-ACK</td>\n",
       "    </tr>\n",
       "  </tbody>\n",
       "</table>\n",
       "</div>"
      ],
      "text/plain": [
       "   tcp.srcport  frame.len  tcp.flags.push  ip.flags.df  Packets  Bytes  \\\n",
       "0         2412         54               1            0        8    432   \n",
       "1         2413         54               1            0       10    540   \n",
       "2         2414         54               1            0       12    648   \n",
       "3         2415         54               1            0       10    540   \n",
       "4         2416         54               1            0        6    324   \n",
       "\n",
       "   Tx Packets  Tx Bytes  Rx Packets  Rx Bytes         Label  \n",
       "0           4       216           4       216  DDoS-PSH-ACK  \n",
       "1           5       270           5       270  DDoS-PSH-ACK  \n",
       "2           6       324           6       324  DDoS-PSH-ACK  \n",
       "3           5       270           5       270  DDoS-PSH-ACK  \n",
       "4           3       162           3       162  DDoS-PSH-ACK  "
      ]
     },
     "execution_count": 120,
     "metadata": {},
     "output_type": "execute_result"
    }
   ],
   "source": [
    "filtered_data = ddos_data.drop(columns=ddos_data.columns[ddos_data.nunique() == 1])\n",
    "filtered_data = filtered_data.drop(columns=['ip.src', 'frame.time'], axis=1)\n",
    "filtered_data.head()"
   ]
  },
  {
   "cell_type": "code",
   "execution_count": 121,
   "metadata": {},
   "outputs": [
    {
     "data": {
      "text/plain": [
       "Label\n",
       "Benign          75600\n",
       "DDoS-PSH-ACK    37800\n",
       "DDoS-ACK        37800\n",
       "Name: count, dtype: int64"
      ]
     },
     "execution_count": 121,
     "metadata": {},
     "output_type": "execute_result"
    }
   ],
   "source": [
    "filtered_data['Label'].value_counts()"
   ]
  },
  {
   "cell_type": "code",
   "execution_count": 122,
   "metadata": {},
   "outputs": [],
   "source": [
    "label_mapping = {'Benign': 0, 'DDoS-PSH-ACK': 1, 'DDoS-ACK': 2} "
   ]
  },
  {
   "cell_type": "code",
   "execution_count": 123,
   "metadata": {},
   "outputs": [
    {
     "data": {
      "text/plain": [
       "Label\n",
       "0    75600\n",
       "1    37800\n",
       "2    37800\n",
       "Name: count, dtype: int64"
      ]
     },
     "execution_count": 123,
     "metadata": {},
     "output_type": "execute_result"
    }
   ],
   "source": [
    "filtered_data['Label'] = filtered_data['Label'].map(label_mapping)\n",
    "filtered_data['Label'].value_counts()"
   ]
  },
  {
   "cell_type": "code",
   "execution_count": 124,
   "metadata": {},
   "outputs": [
    {
     "data": {
      "text/html": [
       "<div>\n",
       "<style scoped>\n",
       "    .dataframe tbody tr th:only-of-type {\n",
       "        vertical-align: middle;\n",
       "    }\n",
       "\n",
       "    .dataframe tbody tr th {\n",
       "        vertical-align: top;\n",
       "    }\n",
       "\n",
       "    .dataframe thead th {\n",
       "        text-align: right;\n",
       "    }\n",
       "</style>\n",
       "<table border=\"1\" class=\"dataframe\">\n",
       "  <thead>\n",
       "    <tr style=\"text-align: right;\">\n",
       "      <th></th>\n",
       "      <th>tcp.srcport</th>\n",
       "      <th>frame.len</th>\n",
       "      <th>tcp.flags.push</th>\n",
       "      <th>ip.flags.df</th>\n",
       "      <th>Packets</th>\n",
       "      <th>Bytes</th>\n",
       "      <th>Tx Packets</th>\n",
       "      <th>Tx Bytes</th>\n",
       "      <th>Rx Packets</th>\n",
       "      <th>Rx Bytes</th>\n",
       "    </tr>\n",
       "  </thead>\n",
       "  <tbody>\n",
       "    <tr>\n",
       "      <th>count</th>\n",
       "      <td>151200.000000</td>\n",
       "      <td>151200.000000</td>\n",
       "      <td>151200.000000</td>\n",
       "      <td>151200.000000</td>\n",
       "      <td>151200.000000</td>\n",
       "      <td>151200.000000</td>\n",
       "      <td>151200.000000</td>\n",
       "      <td>151200.000000</td>\n",
       "      <td>151200.000000</td>\n",
       "      <td>151200.000000</td>\n",
       "    </tr>\n",
       "    <tr>\n",
       "      <th>mean</th>\n",
       "      <td>27376.943247</td>\n",
       "      <td>99.025126</td>\n",
       "      <td>0.500000</td>\n",
       "      <td>0.500000</td>\n",
       "      <td>9.082665</td>\n",
       "      <td>799.422937</td>\n",
       "      <td>5.048776</td>\n",
       "      <td>390.683981</td>\n",
       "      <td>4.033889</td>\n",
       "      <td>408.738955</td>\n",
       "    </tr>\n",
       "    <tr>\n",
       "      <th>std</th>\n",
       "      <td>19634.879546</td>\n",
       "      <td>71.226673</td>\n",
       "      <td>0.500002</td>\n",
       "      <td>0.500002</td>\n",
       "      <td>2.129620</td>\n",
       "      <td>373.759057</td>\n",
       "      <td>1.353814</td>\n",
       "      <td>177.223153</td>\n",
       "      <td>0.963107</td>\n",
       "      <td>197.105807</td>\n",
       "    </tr>\n",
       "    <tr>\n",
       "      <th>min</th>\n",
       "      <td>1302.000000</td>\n",
       "      <td>54.000000</td>\n",
       "      <td>0.000000</td>\n",
       "      <td>0.000000</td>\n",
       "      <td>1.000000</td>\n",
       "      <td>54.000000</td>\n",
       "      <td>1.000000</td>\n",
       "      <td>54.000000</td>\n",
       "      <td>0.000000</td>\n",
       "      <td>0.000000</td>\n",
       "    </tr>\n",
       "    <tr>\n",
       "      <th>25%</th>\n",
       "      <td>8621.000000</td>\n",
       "      <td>54.000000</td>\n",
       "      <td>0.000000</td>\n",
       "      <td>0.000000</td>\n",
       "      <td>8.000000</td>\n",
       "      <td>432.000000</td>\n",
       "      <td>4.000000</td>\n",
       "      <td>216.000000</td>\n",
       "      <td>4.000000</td>\n",
       "      <td>216.000000</td>\n",
       "    </tr>\n",
       "    <tr>\n",
       "      <th>50%</th>\n",
       "      <td>26263.000000</td>\n",
       "      <td>60.000000</td>\n",
       "      <td>0.500000</td>\n",
       "      <td>0.500000</td>\n",
       "      <td>10.000000</td>\n",
       "      <td>1101.500000</td>\n",
       "      <td>6.000000</td>\n",
       "      <td>550.000000</td>\n",
       "      <td>4.000000</td>\n",
       "      <td>551.500000</td>\n",
       "    </tr>\n",
       "    <tr>\n",
       "      <th>75%</th>\n",
       "      <td>45566.000000</td>\n",
       "      <td>105.000000</td>\n",
       "      <td>1.000000</td>\n",
       "      <td>1.000000</td>\n",
       "      <td>10.000000</td>\n",
       "      <td>1146.000000</td>\n",
       "      <td>6.000000</td>\n",
       "      <td>560.000000</td>\n",
       "      <td>4.000000</td>\n",
       "      <td>586.000000</td>\n",
       "    </tr>\n",
       "    <tr>\n",
       "      <th>max</th>\n",
       "      <td>60998.000000</td>\n",
       "      <td>223.000000</td>\n",
       "      <td>1.000000</td>\n",
       "      <td>1.000000</td>\n",
       "      <td>20.000000</td>\n",
       "      <td>1229.000000</td>\n",
       "      <td>10.000000</td>\n",
       "      <td>561.000000</td>\n",
       "      <td>10.000000</td>\n",
       "      <td>668.000000</td>\n",
       "    </tr>\n",
       "  </tbody>\n",
       "</table>\n",
       "</div>"
      ],
      "text/plain": [
       "         tcp.srcport      frame.len  tcp.flags.push    ip.flags.df  \\\n",
       "count  151200.000000  151200.000000   151200.000000  151200.000000   \n",
       "mean    27376.943247      99.025126        0.500000       0.500000   \n",
       "std     19634.879546      71.226673        0.500002       0.500002   \n",
       "min      1302.000000      54.000000        0.000000       0.000000   \n",
       "25%      8621.000000      54.000000        0.000000       0.000000   \n",
       "50%     26263.000000      60.000000        0.500000       0.500000   \n",
       "75%     45566.000000     105.000000        1.000000       1.000000   \n",
       "max     60998.000000     223.000000        1.000000       1.000000   \n",
       "\n",
       "             Packets          Bytes     Tx Packets       Tx Bytes  \\\n",
       "count  151200.000000  151200.000000  151200.000000  151200.000000   \n",
       "mean        9.082665     799.422937       5.048776     390.683981   \n",
       "std         2.129620     373.759057       1.353814     177.223153   \n",
       "min         1.000000      54.000000       1.000000      54.000000   \n",
       "25%         8.000000     432.000000       4.000000     216.000000   \n",
       "50%        10.000000    1101.500000       6.000000     550.000000   \n",
       "75%        10.000000    1146.000000       6.000000     560.000000   \n",
       "max        20.000000    1229.000000      10.000000     561.000000   \n",
       "\n",
       "          Rx Packets       Rx Bytes  \n",
       "count  151200.000000  151200.000000  \n",
       "mean        4.033889     408.738955  \n",
       "std         0.963107     197.105807  \n",
       "min         0.000000       0.000000  \n",
       "25%         4.000000     216.000000  \n",
       "50%         4.000000     551.500000  \n",
       "75%         4.000000     586.000000  \n",
       "max        10.000000     668.000000  "
      ]
     },
     "execution_count": 124,
     "metadata": {},
     "output_type": "execute_result"
    }
   ],
   "source": [
    "X = filtered_data.drop('Label', axis=1)\n",
    "X.describe()"
   ]
  },
  {
   "cell_type": "code",
   "execution_count": 125,
   "metadata": {},
   "outputs": [
    {
     "data": {
      "image/png": "[encoded data removed]",
      "text/plain": [
       "<Figure size 2000x1500 with 12 Axes>"
      ]
     },
     "metadata": {},
     "output_type": "display_data"
    }
   ],
   "source": [
    "X.hist(bins =10, figsize=(20, 15))\n",
    "plt.show()"
   ]
  },
  {
   "cell_type": "code",
   "execution_count": 126,
   "metadata": {},
   "outputs": [
    {
     "data": {
      "text/plain": [
       "tcp.srcport       0\n",
       "frame.len         0\n",
       "tcp.flags.push    0\n",
       "ip.flags.df       0\n",
       "Packets           0\n",
       "Bytes             0\n",
       "Tx Packets        0\n",
       "Tx Bytes          0\n",
       "Rx Packets        0\n",
       "Rx Bytes          0\n",
       "dtype: int64"
      ]
     },
     "execution_count": 126,
     "metadata": {},
     "output_type": "execute_result"
    }
   ],
   "source": [
    "X.isnull().sum()"
   ]
  },
  {
   "cell_type": "code",
   "execution_count": 127,
   "metadata": {},
   "outputs": [
    {
     "name": "stdout",
     "output_type": "stream",
     "text": [
      "X.shape (151200, 10) X.dtype int64\n",
      "y.shape (151200,) y.dtype int64\n"
     ]
    }
   ],
   "source": [
    "X = X.to_numpy()\n",
    "y = filtered_data['Label'].to_numpy()\n",
    "\n",
    "print(\"X.shape\", X.shape, \"X.dtype\", X.dtype)\n",
    "print(\"y.shape\", y.shape, \"y.dtype\", y.dtype)"
   ]
  },
  {
   "cell_type": "code",
   "execution_count": 199,
   "metadata": {},
   "outputs": [
    {
     "data": {
      "text/plain": [
       "array([[ 0.48921351,  1.52477025,  0.81649658,  1.        ,  0.74278135,\n",
       "         1.0298991 ,  0.87447463,  0.97925833,  0.38411063,  1.07591265],\n",
       "       [-1.339216  , -0.69885303,  0.81649658, -1.        , -0.18569536,\n",
       "        -0.81805993, -0.47087096, -0.81067188,  0.38411063, -0.82417512],\n",
       "       [ 1.00705236, -0.5400228 , -1.22474487,  1.        ,  0.74278135,\n",
       "         1.02489113,  0.87447463,  0.97925833,  0.38411063,  1.06626755],\n",
       "       [ 1.91675978,  1.52477025,  0.81649658,  1.        ,  0.74278135,\n",
       "         0.9122107 ,  0.87447463,  0.97925833,  0.38411063,  0.84925241],\n",
       "       [-0.90279833, -0.69885303,  0.81649658, -1.        , -1.11417198,\n",
       "        -1.08849292, -1.1435437 , -1.09164932, -0.89625809, -1.08459322]])"
      ]
     },
     "execution_count": 199,
     "metadata": {},
     "output_type": "execute_result"
    }
   ],
   "source": [
    "# standarization\n",
    "standarization = StandardScaler()\n",
    "X_standared = standarization.fit_transform(X)\n",
    "X_standared[:5]"
   ]
  },
  {
   "cell_type": "code",
   "execution_count": 129,
   "metadata": {},
   "outputs": [],
   "source": [
    "X_train, X_temp, y_train, y_temp = train_test_split(X_standared, y, test_size=0.3, stratify=y)\n",
    "X_val, X_test, y_val, y_test = train_test_split(X_temp, y_temp, test_size=0.3, stratify=y_temp)"
   ]
  },
  {
   "cell_type": "code",
   "execution_count": 130,
   "metadata": {},
   "outputs": [
    {
     "name": "stdout",
     "output_type": "stream",
     "text": [
      "[0 1 2] [52920 26460 26460]\n"
     ]
    }
   ],
   "source": [
    "# check stratified\n",
    "values, counts = np.unique(y_train, return_counts=True)\n",
    "print(values, counts)"
   ]
  },
  {
   "cell_type": "code",
   "execution_count": 131,
   "metadata": {},
   "outputs": [],
   "source": [
    "class myDataset(Dataset):\n",
    "    def __init__(self, X, y):\n",
    "        self.X = torch.tensor(X, dtype=torch.float32)\n",
    "        self.y = torch.tensor(y, dtype=torch.long)\n",
    "\n",
    "    def __len__(self):\n",
    "        return len(self.y)\n",
    "    \n",
    "    def __getitem__(self, idx):\n",
    "        return self.X[idx], self.y[idx]"
   ]
  },
  {
   "cell_type": "code",
   "execution_count": 147,
   "metadata": {},
   "outputs": [],
   "source": [
    "train_dataset = myDataset(X_train, y_train)\n",
    "valid_dataset = myDataset(X_val, y_val)\n",
    "test_dataset = myDataset(X_test, y_test)\n",
    "\n",
    "train_loader = DataLoader(train_dataset, batch_size=10, shuffle=True)\n",
    "val_loader = DataLoader(valid_dataset, batch_size=10, shuffle=False)\n",
    "test_loader = DataLoader(test_dataset, batch_size=10, shuffle=False)"
   ]
  },
  {
   "cell_type": "code",
   "execution_count": 148,
   "metadata": {},
   "outputs": [
    {
     "name": "stdout",
     "output_type": "stream",
     "text": [
      "tensor([[ 0.3474,  1.7265,  1.0000,  1.0000,  0.4308,  0.9915,  0.7026,  0.9554,\n",
      "         -0.0352,  1.0211],\n",
      "        [-1.2538, -0.6321,  1.0000, -1.0000, -0.5084, -0.9831, -0.7747, -0.9857,\n",
      "         -0.0352, -0.9778],\n",
      "        [ 0.8009, -0.4637, -1.0000,  1.0000,  0.4308,  0.9861,  0.7026,  0.9554,\n",
      "         -0.0352,  1.0109],\n",
      "        [ 1.5975,  1.7265,  1.0000,  1.0000,  0.4308,  0.8657,  0.7026,  0.9554,\n",
      "         -0.0352,  0.7826],\n",
      "        [-0.8716, -0.6321,  1.0000, -1.0000, -1.4475, -1.2720, -1.5133, -1.2904,\n",
      "         -1.0735, -1.2518],\n",
      "        [ 0.4118,  1.7265,  1.0000,  1.0000,  0.4308,  0.9219,  0.7026,  0.9554,\n",
      "         -0.0352,  0.8892],\n",
      "        [-0.7816, -0.6321,  1.0000, -1.0000, -2.3867, -1.5610, -2.2520, -1.5951,\n",
      "         -2.1118, -1.5258],\n",
      "        [-0.7825, -0.6321, -1.0000, -1.0000,  0.4308, -0.6941, -0.0360, -0.6810,\n",
      "          1.0031, -0.7039],\n",
      "        [ 0.4341, -0.4637, -1.0000,  1.0000,  0.4308,  0.9273,  0.7026,  0.9554,\n",
      "         -0.0352,  0.8993],\n",
      "        [-0.7123, -0.6321, -1.0000, -1.0000, -1.4475, -1.2720, -1.5133, -1.2904,\n",
      "         -1.0735, -1.2518]])\n",
      "tensor([0, 1, 0, 0, 1, 0, 1, 2, 0, 2])\n"
     ]
    }
   ],
   "source": [
    "for X, y in train_loader:\n",
    "    print(X)\n",
    "    print(y)\n",
    "    break"
   ]
  },
  {
   "cell_type": "code",
   "execution_count": 149,
   "metadata": {},
   "outputs": [
    {
     "name": "stdout",
     "output_type": "stream",
     "text": [
      "tensor([ 1.3641, -0.4637, -1.0000,  1.0000,  0.4308,  0.9407,  0.7026,  0.9554,\n",
      "        -0.0352,  0.9247])\n",
      "tensor(0)\n"
     ]
    }
   ],
   "source": [
    "inputs, outputs = train_dataset[0]\n",
    "print(inputs)\n",
    "print(outputs)"
   ]
  },
  {
   "cell_type": "code",
   "execution_count": 109,
   "metadata": {},
   "outputs": [],
   "source": [
    "# Model\n",
    "class FFNN(nn.Module):\n",
    "    def __init__(self, input_size, num_classes):\n",
    "        super(FFNN, self).__init__()\n",
    "        self.fc1 = nn.Linear(input_size, 32)\n",
    "        self.fc2 = nn.Linear(32, 32)\n",
    "        self.fc3 = nn.Linear(32, num_classes)\n",
    "\n",
    "    def forward(self, x):\n",
    "        x = F.relu(self.fc1(x))\n",
    "        x = F.relu(self.fc2(x))\n",
    "        x = self.fc3(x)\n",
    "        return F.softmax(x, dim=1)"
   ]
  },
  {
   "cell_type": "code",
   "execution_count": 135,
   "metadata": {},
   "outputs": [],
   "source": [
    "class FFNN(nn.Module):\n",
    "    def __init__(self, input_size, hidden_size, num_classes=3):\n",
    "        super(FFNN, self).__init__()\n",
    "        self.fc1 = nn.Linear(input_size, hidden_size)\n",
    "        self.fc2 = nn.Linear(hidden_size, hidden_size)\n",
    "        self.fc3 = nn.Linear(hidden_size, num_classes)\n",
    "        self.relu = nn.ReLU()\n",
    "        self.softmax = nn.Softmax(dim=1)\n",
    "\n",
    "    def forward(self, x):\n",
    "        x = self.relu(self.fc1(x))\n",
    "        x = self.relu(self.fc2(x))\n",
    "        x = self.fc3(x)\n",
    "        return self.softmax(x)"
   ]
  },
  {
   "cell_type": "code",
   "execution_count": 136,
   "metadata": {},
   "outputs": [
    {
     "data": {
      "text/plain": [
       "(105840, 10)"
      ]
     },
     "execution_count": 136,
     "metadata": {},
     "output_type": "execute_result"
    }
   ],
   "source": [
    "X_train.shape"
   ]
  },
  {
   "cell_type": "code",
   "execution_count": 186,
   "metadata": {},
   "outputs": [],
   "source": [
    "del model"
   ]
  },
  {
   "cell_type": "code",
   "execution_count": 187,
   "metadata": {},
   "outputs": [],
   "source": [
    "input_size = X_train.shape[1]\n",
    "num_classes = 3\n",
    "hidden_size = 32\n",
    "model = FFNN(input_size, hidden_size, num_classes)"
   ]
  },
  {
   "cell_type": "code",
   "execution_count": 188,
   "metadata": {},
   "outputs": [
    {
     "name": "stdout",
     "output_type": "stream",
     "text": [
      "----------------------------------------------------------------\n",
      "        Layer (type)               Output Shape         Param #\n",
      "================================================================\n",
      "            Linear-1                   [-1, 32]             352\n",
      "              ReLU-2                   [-1, 32]               0\n",
      "            Linear-3                   [-1, 32]           1,056\n",
      "              ReLU-4                   [-1, 32]               0\n",
      "            Linear-5                    [-1, 3]              99\n",
      "           Softmax-6                    [-1, 3]               0\n",
      "================================================================\n",
      "Total params: 1,507\n",
      "Trainable params: 1,507\n",
      "Non-trainable params: 0\n",
      "----------------------------------------------------------------\n",
      "Input size (MB): 0.00\n",
      "Forward/backward pass size (MB): 0.00\n",
      "Params size (MB): 0.01\n",
      "Estimated Total Size (MB): 0.01\n",
      "----------------------------------------------------------------\n"
     ]
    }
   ],
   "source": [
    "summary(model, input_size=(10,))"
   ]
  },
  {
   "cell_type": "code",
   "execution_count": 190,
   "metadata": {},
   "outputs": [],
   "source": [
    "optimizer = torch.optim.SGD(model.parameters(), lr=0.0001, momentum=0.9)\n",
    "# optimizer = optim.Adam(model.parameters())\n",
    "scheduler = torch.optim.lr_scheduler.StepLR(optimizer, step_size=30, gamma=0.1)\n",
    "criterion = nn.CrossEntropyLoss()"
   ]
  },
  {
   "cell_type": "code",
   "execution_count": 176,
   "metadata": {},
   "outputs": [],
   "source": [
    "from torch.utils.tensorboard import SummaryWriter\n",
    "import datetime"
   ]
  },
  {
   "cell_type": "code",
   "execution_count": 191,
   "metadata": {},
   "outputs": [],
   "source": [
    "class EarlyStopping:\n",
    "    def __init__(self, patience=7, verbose=False, delta=0, path='checkpoint.pt'):\n",
    "        self.patience = patience\n",
    "        self.verbose = verbose\n",
    "        self.counter = 0\n",
    "        self.best_score = None\n",
    "        self.early_stop = False\n",
    "        self.val_loss_min = float('inf')\n",
    "        self.delta = delta\n",
    "        self.path = path\n",
    "\n",
    "    def __call__(self, val_loss, model):\n",
    "        score = -val_loss\n",
    "\n",
    "        if self.best_score is None:\n",
    "            self.best_score = score\n",
    "            self.save_checkpoint(val_loss, model)\n",
    "        elif score < self.best_score + self.delta:\n",
    "            self.counter += 1\n",
    "            if self.verbose:\n",
    "                print(f'EarlyStopping counter: {self.counter} out of {self.patience}')\n",
    "            if self.counter >= self.patience:\n",
    "                self.early_stop = True\n",
    "        else:\n",
    "            self.best_score = score\n",
    "            self.save_checkpoint(val_loss, model)\n",
    "            self.counter = 0\n",
    "\n",
    "    def save_checkpoint(self, val_loss, model):\n",
    "        if self.verbose:\n",
    "            print(f'Validation loss decreased ({self.val_loss_min:.6f} --> {val_loss:.6f}). Saving model ...')\n",
    "        torch.save(model.state_dict(), self.path)\n",
    "        self.val_loss_min = val_loss"
   ]
  },
  {
   "cell_type": "code",
   "execution_count": 192,
   "metadata": {},
   "outputs": [
    {
     "name": "stdout",
     "output_type": "stream",
     "text": [
      "Epoch [0/100], Train Loss: 0.8725, Train Acc: 84.10%, Train F1: 0.8330, Val Loss: 0.7093, Val Acc: 99.43%, Val F1: 0.9943, LR: 0.000100\n",
      "Validation loss decreased (inf --> 0.709320). Saving model ...\n",
      "Epoch [1/100], Train Loss: 0.6100, Train Acc: 99.98%, Train F1: 0.9998, Val Loss: 0.5636, Val Acc: 100.00%, Val F1: 1.0000, LR: 0.000100\n",
      "Validation loss decreased (0.709320 --> 0.563636). Saving model ...\n",
      "Epoch [2/100], Train Loss: 0.5582, Train Acc: 100.00%, Train F1: 1.0000, Val Loss: 0.5553, Val Acc: 100.00%, Val F1: 1.0000, LR: 0.000100\n",
      "Validation loss decreased (0.563636 --> 0.555340). Saving model ...\n",
      "Epoch [3/100], Train Loss: 0.5543, Train Acc: 100.00%, Train F1: 1.0000, Val Loss: 0.5536, Val Acc: 100.00%, Val F1: 1.0000, LR: 0.000100\n",
      "Validation loss decreased (0.555340 --> 0.553572). Saving model ...\n",
      "Epoch [4/100], Train Loss: 0.5532, Train Acc: 100.00%, Train F1: 1.0000, Val Loss: 0.5529, Val Acc: 100.00%, Val F1: 1.0000, LR: 0.000100\n",
      "Validation loss decreased (0.553572 --> 0.552859). Saving model ...\n",
      "Epoch [5/100], Train Loss: 0.5527, Train Acc: 100.00%, Train F1: 1.0000, Val Loss: 0.5525, Val Acc: 100.00%, Val F1: 1.0000, LR: 0.000100\n",
      "Validation loss decreased (0.552859 --> 0.552485). Saving model ...\n",
      "Epoch [6/100], Train Loss: 0.5524, Train Acc: 100.00%, Train F1: 1.0000, Val Loss: 0.5523, Val Acc: 100.00%, Val F1: 1.0000, LR: 0.000100\n",
      "Validation loss decreased (0.552485 --> 0.552258). Saving model ...\n",
      "Epoch [7/100], Train Loss: 0.5522, Train Acc: 100.00%, Train F1: 1.0000, Val Loss: 0.5521, Val Acc: 100.00%, Val F1: 1.0000, LR: 0.000100\n",
      "Validation loss decreased (0.552258 --> 0.552108). Saving model ...\n",
      "Epoch [8/100], Train Loss: 0.5521, Train Acc: 100.00%, Train F1: 1.0000, Val Loss: 0.5520, Val Acc: 100.00%, Val F1: 1.0000, LR: 0.000100\n",
      "Validation loss decreased (0.552108 --> 0.552001). Saving model ...\n",
      "Epoch [9/100], Train Loss: 0.5520, Train Acc: 100.00%, Train F1: 1.0000, Val Loss: 0.5519, Val Acc: 100.00%, Val F1: 1.0000, LR: 0.000100\n",
      "Validation loss decreased (0.552001 --> 0.551922). Saving model ...\n",
      "Epoch [10/100], Train Loss: 0.5519, Train Acc: 100.00%, Train F1: 1.0000, Val Loss: 0.5519, Val Acc: 100.00%, Val F1: 1.0000, LR: 0.000100\n",
      "Validation loss decreased (0.551922 --> 0.551862). Saving model ...\n",
      "Epoch [11/100], Train Loss: 0.5518, Train Acc: 100.00%, Train F1: 1.0000, Val Loss: 0.5518, Val Acc: 100.00%, Val F1: 1.0000, LR: 0.000100\n",
      "Validation loss decreased (0.551862 --> 0.551814). Saving model ...\n",
      "Epoch [12/100], Train Loss: 0.5518, Train Acc: 100.00%, Train F1: 1.0000, Val Loss: 0.5518, Val Acc: 100.00%, Val F1: 1.0000, LR: 0.000100\n",
      "Validation loss decreased (0.551814 --> 0.551775). Saving model ...\n",
      "Epoch [13/100], Train Loss: 0.5518, Train Acc: 100.00%, Train F1: 1.0000, Val Loss: 0.5517, Val Acc: 100.00%, Val F1: 1.0000, LR: 0.000100\n",
      "Validation loss decreased (0.551775 --> 0.551743). Saving model ...\n",
      "Epoch [14/100], Train Loss: 0.5517, Train Acc: 100.00%, Train F1: 1.0000, Val Loss: 0.5517, Val Acc: 100.00%, Val F1: 1.0000, LR: 0.000100\n",
      "Validation loss decreased (0.551743 --> 0.551717). Saving model ...\n",
      "Epoch [15/100], Train Loss: 0.5517, Train Acc: 100.00%, Train F1: 1.0000, Val Loss: 0.5517, Val Acc: 100.00%, Val F1: 1.0000, LR: 0.000100\n",
      "Validation loss decreased (0.551717 --> 0.551694). Saving model ...\n",
      "Epoch [16/100], Train Loss: 0.5517, Train Acc: 100.00%, Train F1: 1.0000, Val Loss: 0.5517, Val Acc: 100.00%, Val F1: 1.0000, LR: 0.000100\n",
      "Validation loss decreased (0.551694 --> 0.551675). Saving model ...\n",
      "Epoch [17/100], Train Loss: 0.5517, Train Acc: 100.00%, Train F1: 1.0000, Val Loss: 0.5517, Val Acc: 100.00%, Val F1: 1.0000, LR: 0.000100\n",
      "Validation loss decreased (0.551675 --> 0.551658). Saving model ...\n",
      "Epoch [18/100], Train Loss: 0.5517, Train Acc: 100.00%, Train F1: 1.0000, Val Loss: 0.5516, Val Acc: 100.00%, Val F1: 1.0000, LR: 0.000100\n",
      "Validation loss decreased (0.551658 --> 0.551644). Saving model ...\n",
      "Epoch [19/100], Train Loss: 0.5516, Train Acc: 100.00%, Train F1: 1.0000, Val Loss: 0.5516, Val Acc: 100.00%, Val F1: 1.0000, LR: 0.000100\n",
      "Validation loss decreased (0.551644 --> 0.551631). Saving model ...\n",
      "Epoch [20/100], Train Loss: 0.5516, Train Acc: 100.00%, Train F1: 1.0000, Val Loss: 0.5516, Val Acc: 100.00%, Val F1: 1.0000, LR: 0.000100\n",
      "Validation loss decreased (0.551631 --> 0.551620). Saving model ...\n",
      "Epoch [21/100], Train Loss: 0.5516, Train Acc: 100.00%, Train F1: 1.0000, Val Loss: 0.5516, Val Acc: 100.00%, Val F1: 1.0000, LR: 0.000100\n",
      "Validation loss decreased (0.551620 --> 0.551609). Saving model ...\n",
      "Epoch [22/100], Train Loss: 0.5516, Train Acc: 100.00%, Train F1: 1.0000, Val Loss: 0.5516, Val Acc: 100.00%, Val F1: 1.0000, LR: 0.000100\n",
      "Validation loss decreased (0.551609 --> 0.551600). Saving model ...\n",
      "Epoch [23/100], Train Loss: 0.5516, Train Acc: 100.00%, Train F1: 1.0000, Val Loss: 0.5516, Val Acc: 100.00%, Val F1: 1.0000, LR: 0.000100\n",
      "Validation loss decreased (0.551600 --> 0.551592). Saving model ...\n",
      "Epoch [24/100], Train Loss: 0.5516, Train Acc: 100.00%, Train F1: 1.0000, Val Loss: 0.5516, Val Acc: 100.00%, Val F1: 1.0000, LR: 0.000100\n",
      "Validation loss decreased (0.551592 --> 0.551585). Saving model ...\n",
      "Epoch [25/100], Train Loss: 0.5516, Train Acc: 100.00%, Train F1: 1.0000, Val Loss: 0.5516, Val Acc: 100.00%, Val F1: 1.0000, LR: 0.000100\n",
      "Validation loss decreased (0.551585 --> 0.551578). Saving model ...\n",
      "Epoch [26/100], Train Loss: 0.5516, Train Acc: 100.00%, Train F1: 1.0000, Val Loss: 0.5516, Val Acc: 100.00%, Val F1: 1.0000, LR: 0.000100\n",
      "Validation loss decreased (0.551578 --> 0.551572). Saving model ...\n",
      "Epoch [27/100], Train Loss: 0.5516, Train Acc: 100.00%, Train F1: 1.0000, Val Loss: 0.5516, Val Acc: 100.00%, Val F1: 1.0000, LR: 0.000100\n",
      "Validation loss decreased (0.551572 --> 0.551566). Saving model ...\n",
      "Epoch [28/100], Train Loss: 0.5516, Train Acc: 100.00%, Train F1: 1.0000, Val Loss: 0.5516, Val Acc: 100.00%, Val F1: 1.0000, LR: 0.000100\n",
      "Validation loss decreased (0.551566 --> 0.551561). Saving model ...\n",
      "Epoch [29/100], Train Loss: 0.5516, Train Acc: 100.00%, Train F1: 1.0000, Val Loss: 0.5516, Val Acc: 100.00%, Val F1: 1.0000, LR: 0.000100\n",
      "Validation loss decreased (0.551561 --> 0.551556). Saving model ...\n",
      "Epoch [30/100], Train Loss: 0.5516, Train Acc: 100.00%, Train F1: 1.0000, Val Loss: 0.5516, Val Acc: 100.00%, Val F1: 1.0000, LR: 0.000010\n",
      "Validation loss decreased (0.551556 --> 0.551556). Saving model ...\n",
      "Epoch [31/100], Train Loss: 0.5516, Train Acc: 100.00%, Train F1: 1.0000, Val Loss: 0.5516, Val Acc: 100.00%, Val F1: 1.0000, LR: 0.000010\n",
      "Validation loss decreased (0.551556 --> 0.551556). Saving model ...\n",
      "Epoch [32/100], Train Loss: 0.5516, Train Acc: 100.00%, Train F1: 1.0000, Val Loss: 0.5516, Val Acc: 100.00%, Val F1: 1.0000, LR: 0.000010\n",
      "Validation loss decreased (0.551556 --> 0.551556). Saving model ...\n",
      "Epoch [33/100], Train Loss: 0.5516, Train Acc: 100.00%, Train F1: 1.0000, Val Loss: 0.5516, Val Acc: 100.00%, Val F1: 1.0000, LR: 0.000010\n",
      "Validation loss decreased (0.551556 --> 0.551555). Saving model ...\n",
      "Epoch [34/100], Train Loss: 0.5516, Train Acc: 100.00%, Train F1: 1.0000, Val Loss: 0.5516, Val Acc: 100.00%, Val F1: 1.0000, LR: 0.000010\n",
      "Validation loss decreased (0.551555 --> 0.551555). Saving model ...\n",
      "Epoch [35/100], Train Loss: 0.5516, Train Acc: 100.00%, Train F1: 1.0000, Val Loss: 0.5516, Val Acc: 100.00%, Val F1: 1.0000, LR: 0.000010\n",
      "Validation loss decreased (0.551555 --> 0.551555). Saving model ...\n",
      "Epoch [36/100], Train Loss: 0.5516, Train Acc: 100.00%, Train F1: 1.0000, Val Loss: 0.5516, Val Acc: 100.00%, Val F1: 1.0000, LR: 0.000010\n",
      "Validation loss decreased (0.551555 --> 0.551555). Saving model ...\n",
      "Epoch [37/100], Train Loss: 0.5516, Train Acc: 100.00%, Train F1: 1.0000, Val Loss: 0.5516, Val Acc: 100.00%, Val F1: 1.0000, LR: 0.000010\n",
      "Validation loss decreased (0.551555 --> 0.551555). Saving model ...\n",
      "Epoch [38/100], Train Loss: 0.5516, Train Acc: 100.00%, Train F1: 1.0000, Val Loss: 0.5516, Val Acc: 100.00%, Val F1: 1.0000, LR: 0.000010\n",
      "Validation loss decreased (0.551555 --> 0.551555). Saving model ...\n",
      "Epoch [39/100], Train Loss: 0.5516, Train Acc: 100.00%, Train F1: 1.0000, Val Loss: 0.5516, Val Acc: 100.00%, Val F1: 1.0000, LR: 0.000010\n",
      "Validation loss decreased (0.551555 --> 0.551555). Saving model ...\n",
      "Epoch [40/100], Train Loss: 0.5516, Train Acc: 100.00%, Train F1: 1.0000, Val Loss: 0.5516, Val Acc: 100.00%, Val F1: 1.0000, LR: 0.000010\n",
      "Validation loss decreased (0.551555 --> 0.551555). Saving model ...\n",
      "Epoch [41/100], Train Loss: 0.5516, Train Acc: 100.00%, Train F1: 1.0000, Val Loss: 0.5516, Val Acc: 100.00%, Val F1: 1.0000, LR: 0.000010\n",
      "Validation loss decreased (0.551555 --> 0.551555). Saving model ...\n",
      "Epoch [42/100], Train Loss: 0.5516, Train Acc: 100.00%, Train F1: 1.0000, Val Loss: 0.5516, Val Acc: 100.00%, Val F1: 1.0000, LR: 0.000010\n",
      "Validation loss decreased (0.551555 --> 0.551555). Saving model ...\n",
      "Epoch [43/100], Train Loss: 0.5516, Train Acc: 100.00%, Train F1: 1.0000, Val Loss: 0.5516, Val Acc: 100.00%, Val F1: 1.0000, LR: 0.000010\n",
      "Validation loss decreased (0.551555 --> 0.551555). Saving model ...\n",
      "Epoch [44/100], Train Loss: 0.5516, Train Acc: 100.00%, Train F1: 1.0000, Val Loss: 0.5516, Val Acc: 100.00%, Val F1: 1.0000, LR: 0.000010\n",
      "Validation loss decreased (0.551555 --> 0.551555). Saving model ...\n",
      "Epoch [45/100], Train Loss: 0.5516, Train Acc: 100.00%, Train F1: 1.0000, Val Loss: 0.5516, Val Acc: 100.00%, Val F1: 1.0000, LR: 0.000010\n",
      "Validation loss decreased (0.551555 --> 0.551555). Saving model ...\n",
      "Epoch [46/100], Train Loss: 0.5516, Train Acc: 100.00%, Train F1: 1.0000, Val Loss: 0.5516, Val Acc: 100.00%, Val F1: 1.0000, LR: 0.000010\n",
      "Validation loss decreased (0.551555 --> 0.551555). Saving model ...\n",
      "Epoch [47/100], Train Loss: 0.5516, Train Acc: 100.00%, Train F1: 1.0000, Val Loss: 0.5516, Val Acc: 100.00%, Val F1: 1.0000, LR: 0.000010\n",
      "Validation loss decreased (0.551555 --> 0.551555). Saving model ...\n",
      "Epoch [48/100], Train Loss: 0.5516, Train Acc: 100.00%, Train F1: 1.0000, Val Loss: 0.5516, Val Acc: 100.00%, Val F1: 1.0000, LR: 0.000010\n",
      "Validation loss decreased (0.551555 --> 0.551555). Saving model ...\n",
      "Epoch [49/100], Train Loss: 0.5516, Train Acc: 100.00%, Train F1: 1.0000, Val Loss: 0.5516, Val Acc: 100.00%, Val F1: 1.0000, LR: 0.000010\n",
      "Validation loss decreased (0.551555 --> 0.551555). Saving model ...\n",
      "Epoch [50/100], Train Loss: 0.5516, Train Acc: 100.00%, Train F1: 1.0000, Val Loss: 0.5516, Val Acc: 100.00%, Val F1: 1.0000, LR: 0.000010\n",
      "Validation loss decreased (0.551555 --> 0.551555). Saving model ...\n",
      "Epoch [51/100], Train Loss: 0.5516, Train Acc: 100.00%, Train F1: 1.0000, Val Loss: 0.5516, Val Acc: 100.00%, Val F1: 1.0000, LR: 0.000010\n",
      "Validation loss decreased (0.551555 --> 0.551555). Saving model ...\n",
      "Epoch [52/100], Train Loss: 0.5516, Train Acc: 100.00%, Train F1: 1.0000, Val Loss: 0.5516, Val Acc: 100.00%, Val F1: 1.0000, LR: 0.000010\n",
      "Validation loss decreased (0.551555 --> 0.551555). Saving model ...\n",
      "Epoch [53/100], Train Loss: 0.5516, Train Acc: 100.00%, Train F1: 1.0000, Val Loss: 0.5516, Val Acc: 100.00%, Val F1: 1.0000, LR: 0.000010\n",
      "Validation loss decreased (0.551555 --> 0.551555). Saving model ...\n",
      "Epoch [54/100], Train Loss: 0.5516, Train Acc: 100.00%, Train F1: 1.0000, Val Loss: 0.5516, Val Acc: 100.00%, Val F1: 1.0000, LR: 0.000010\n",
      "Validation loss decreased (0.551555 --> 0.551555). Saving model ...\n",
      "Epoch [55/100], Train Loss: 0.5516, Train Acc: 100.00%, Train F1: 1.0000, Val Loss: 0.5516, Val Acc: 100.00%, Val F1: 1.0000, LR: 0.000010\n",
      "Validation loss decreased (0.551555 --> 0.551555). Saving model ...\n",
      "Epoch [56/100], Train Loss: 0.5516, Train Acc: 100.00%, Train F1: 1.0000, Val Loss: 0.5516, Val Acc: 100.00%, Val F1: 1.0000, LR: 0.000010\n",
      "Validation loss decreased (0.551555 --> 0.551555). Saving model ...\n",
      "Epoch [57/100], Train Loss: 0.5516, Train Acc: 100.00%, Train F1: 1.0000, Val Loss: 0.5516, Val Acc: 100.00%, Val F1: 1.0000, LR: 0.000010\n",
      "Validation loss decreased (0.551555 --> 0.551554). Saving model ...\n",
      "Epoch [58/100], Train Loss: 0.5516, Train Acc: 100.00%, Train F1: 1.0000, Val Loss: 0.5516, Val Acc: 100.00%, Val F1: 1.0000, LR: 0.000010\n",
      "Validation loss decreased (0.551554 --> 0.551554). Saving model ...\n",
      "Epoch [59/100], Train Loss: 0.5516, Train Acc: 100.00%, Train F1: 1.0000, Val Loss: 0.5516, Val Acc: 100.00%, Val F1: 1.0000, LR: 0.000010\n",
      "Validation loss decreased (0.551554 --> 0.551554). Saving model ...\n",
      "Epoch [60/100], Train Loss: 0.5516, Train Acc: 100.00%, Train F1: 1.0000, Val Loss: 0.5516, Val Acc: 100.00%, Val F1: 1.0000, LR: 0.000001\n",
      "Validation loss decreased (0.551554 --> 0.551554). Saving model ...\n",
      "Epoch [61/100], Train Loss: 0.5516, Train Acc: 100.00%, Train F1: 1.0000, Val Loss: 0.5516, Val Acc: 100.00%, Val F1: 1.0000, LR: 0.000001\n",
      "Validation loss decreased (0.551554 --> 0.551554). Saving model ...\n",
      "Epoch [62/100], Train Loss: 0.5516, Train Acc: 100.00%, Train F1: 1.0000, Val Loss: 0.5516, Val Acc: 100.00%, Val F1: 1.0000, LR: 0.000001\n",
      "Validation loss decreased (0.551554 --> 0.551554). Saving model ...\n",
      "Epoch [63/100], Train Loss: 0.5516, Train Acc: 100.00%, Train F1: 1.0000, Val Loss: 0.5516, Val Acc: 100.00%, Val F1: 1.0000, LR: 0.000001\n",
      "Validation loss decreased (0.551554 --> 0.551554). Saving model ...\n",
      "Epoch [64/100], Train Loss: 0.5516, Train Acc: 100.00%, Train F1: 1.0000, Val Loss: 0.5516, Val Acc: 100.00%, Val F1: 1.0000, LR: 0.000001\n",
      "Validation loss decreased (0.551554 --> 0.551554). Saving model ...\n",
      "Epoch [65/100], Train Loss: 0.5516, Train Acc: 100.00%, Train F1: 1.0000, Val Loss: 0.5516, Val Acc: 100.00%, Val F1: 1.0000, LR: 0.000001\n",
      "Validation loss decreased (0.551554 --> 0.551554). Saving model ...\n",
      "Epoch [66/100], Train Loss: 0.5516, Train Acc: 100.00%, Train F1: 1.0000, Val Loss: 0.5516, Val Acc: 100.00%, Val F1: 1.0000, LR: 0.000001\n",
      "Validation loss decreased (0.551554 --> 0.551554). Saving model ...\n",
      "Epoch [67/100], Train Loss: 0.5516, Train Acc: 100.00%, Train F1: 1.0000, Val Loss: 0.5516, Val Acc: 100.00%, Val F1: 1.0000, LR: 0.000001\n",
      "Validation loss decreased (0.551554 --> 0.551554). Saving model ...\n",
      "Epoch [68/100], Train Loss: 0.5516, Train Acc: 100.00%, Train F1: 1.0000, Val Loss: 0.5516, Val Acc: 100.00%, Val F1: 1.0000, LR: 0.000001\n",
      "Validation loss decreased (0.551554 --> 0.551554). Saving model ...\n",
      "Epoch [69/100], Train Loss: 0.5516, Train Acc: 100.00%, Train F1: 1.0000, Val Loss: 0.5516, Val Acc: 100.00%, Val F1: 1.0000, LR: 0.000001\n",
      "Validation loss decreased (0.551554 --> 0.551554). Saving model ...\n",
      "Epoch [70/100], Train Loss: 0.5516, Train Acc: 100.00%, Train F1: 1.0000, Val Loss: 0.5516, Val Acc: 100.00%, Val F1: 1.0000, LR: 0.000001\n",
      "Validation loss decreased (0.551554 --> 0.551554). Saving model ...\n",
      "Epoch [71/100], Train Loss: 0.5516, Train Acc: 100.00%, Train F1: 1.0000, Val Loss: 0.5516, Val Acc: 100.00%, Val F1: 1.0000, LR: 0.000001\n",
      "Validation loss decreased (0.551554 --> 0.551554). Saving model ...\n",
      "Epoch [72/100], Train Loss: 0.5516, Train Acc: 100.00%, Train F1: 1.0000, Val Loss: 0.5516, Val Acc: 100.00%, Val F1: 1.0000, LR: 0.000001\n",
      "Validation loss decreased (0.551554 --> 0.551554). Saving model ...\n",
      "Epoch [73/100], Train Loss: 0.5516, Train Acc: 100.00%, Train F1: 1.0000, Val Loss: 0.5516, Val Acc: 100.00%, Val F1: 1.0000, LR: 0.000001\n",
      "Validation loss decreased (0.551554 --> 0.551554). Saving model ...\n",
      "Epoch [74/100], Train Loss: 0.5516, Train Acc: 100.00%, Train F1: 1.0000, Val Loss: 0.5516, Val Acc: 100.00%, Val F1: 1.0000, LR: 0.000001\n",
      "Validation loss decreased (0.551554 --> 0.551554). Saving model ...\n",
      "Epoch [75/100], Train Loss: 0.5516, Train Acc: 100.00%, Train F1: 1.0000, Val Loss: 0.5516, Val Acc: 100.00%, Val F1: 1.0000, LR: 0.000001\n",
      "Validation loss decreased (0.551554 --> 0.551554). Saving model ...\n",
      "Epoch [76/100], Train Loss: 0.5516, Train Acc: 100.00%, Train F1: 1.0000, Val Loss: 0.5516, Val Acc: 100.00%, Val F1: 1.0000, LR: 0.000001\n",
      "Validation loss decreased (0.551554 --> 0.551554). Saving model ...\n",
      "Epoch [77/100], Train Loss: 0.5516, Train Acc: 100.00%, Train F1: 1.0000, Val Loss: 0.5516, Val Acc: 100.00%, Val F1: 1.0000, LR: 0.000001\n",
      "Validation loss decreased (0.551554 --> 0.551554). Saving model ...\n",
      "Epoch [78/100], Train Loss: 0.5516, Train Acc: 100.00%, Train F1: 1.0000, Val Loss: 0.5516, Val Acc: 100.00%, Val F1: 1.0000, LR: 0.000001\n",
      "Validation loss decreased (0.551554 --> 0.551554). Saving model ...\n",
      "Epoch [79/100], Train Loss: 0.5516, Train Acc: 100.00%, Train F1: 1.0000, Val Loss: 0.5516, Val Acc: 100.00%, Val F1: 1.0000, LR: 0.000001\n",
      "Validation loss decreased (0.551554 --> 0.551554). Saving model ...\n",
      "Epoch [80/100], Train Loss: 0.5516, Train Acc: 100.00%, Train F1: 1.0000, Val Loss: 0.5516, Val Acc: 100.00%, Val F1: 1.0000, LR: 0.000001\n",
      "Validation loss decreased (0.551554 --> 0.551554). Saving model ...\n",
      "Epoch [81/100], Train Loss: 0.5516, Train Acc: 100.00%, Train F1: 1.0000, Val Loss: 0.5516, Val Acc: 100.00%, Val F1: 1.0000, LR: 0.000001\n",
      "Validation loss decreased (0.551554 --> 0.551554). Saving model ...\n",
      "Epoch [82/100], Train Loss: 0.5516, Train Acc: 100.00%, Train F1: 1.0000, Val Loss: 0.5516, Val Acc: 100.00%, Val F1: 1.0000, LR: 0.000001\n",
      "Validation loss decreased (0.551554 --> 0.551554). Saving model ...\n",
      "Epoch [83/100], Train Loss: 0.5516, Train Acc: 100.00%, Train F1: 1.0000, Val Loss: 0.5516, Val Acc: 100.00%, Val F1: 1.0000, LR: 0.000001\n",
      "Validation loss decreased (0.551554 --> 0.551554). Saving model ...\n",
      "Epoch [84/100], Train Loss: 0.5516, Train Acc: 100.00%, Train F1: 1.0000, Val Loss: 0.5516, Val Acc: 100.00%, Val F1: 1.0000, LR: 0.000001\n",
      "Validation loss decreased (0.551554 --> 0.551554). Saving model ...\n",
      "Epoch [85/100], Train Loss: 0.5516, Train Acc: 100.00%, Train F1: 1.0000, Val Loss: 0.5516, Val Acc: 100.00%, Val F1: 1.0000, LR: 0.000001\n",
      "Validation loss decreased (0.551554 --> 0.551554). Saving model ...\n",
      "Epoch [86/100], Train Loss: 0.5516, Train Acc: 100.00%, Train F1: 1.0000, Val Loss: 0.5516, Val Acc: 100.00%, Val F1: 1.0000, LR: 0.000001\n",
      "Validation loss decreased (0.551554 --> 0.551554). Saving model ...\n",
      "Epoch [87/100], Train Loss: 0.5516, Train Acc: 100.00%, Train F1: 1.0000, Val Loss: 0.5516, Val Acc: 100.00%, Val F1: 1.0000, LR: 0.000001\n",
      "Validation loss decreased (0.551554 --> 0.551554). Saving model ...\n",
      "Epoch [88/100], Train Loss: 0.5516, Train Acc: 100.00%, Train F1: 1.0000, Val Loss: 0.5516, Val Acc: 100.00%, Val F1: 1.0000, LR: 0.000001\n",
      "Validation loss decreased (0.551554 --> 0.551554). Saving model ...\n",
      "Epoch [89/100], Train Loss: 0.5516, Train Acc: 100.00%, Train F1: 1.0000, Val Loss: 0.5516, Val Acc: 100.00%, Val F1: 1.0000, LR: 0.000001\n",
      "Validation loss decreased (0.551554 --> 0.551554). Saving model ...\n",
      "Epoch [90/100], Train Loss: 0.5516, Train Acc: 100.00%, Train F1: 1.0000, Val Loss: 0.5516, Val Acc: 100.00%, Val F1: 1.0000, LR: 0.000000\n",
      "EarlyStopping counter: 1 out of 5\n",
      "Epoch [91/100], Train Loss: 0.5516, Train Acc: 100.00%, Train F1: 1.0000, Val Loss: 0.5516, Val Acc: 100.00%, Val F1: 1.0000, LR: 0.000000\n",
      "EarlyStopping counter: 2 out of 5\n",
      "Epoch [92/100], Train Loss: 0.5516, Train Acc: 100.00%, Train F1: 1.0000, Val Loss: 0.5516, Val Acc: 100.00%, Val F1: 1.0000, LR: 0.000000\n",
      "EarlyStopping counter: 3 out of 5\n",
      "Epoch [93/100], Train Loss: 0.5516, Train Acc: 100.00%, Train F1: 1.0000, Val Loss: 0.5516, Val Acc: 100.00%, Val F1: 1.0000, LR: 0.000000\n",
      "EarlyStopping counter: 4 out of 5\n",
      "Epoch [94/100], Train Loss: 0.5516, Train Acc: 100.00%, Train F1: 1.0000, Val Loss: 0.5516, Val Acc: 100.00%, Val F1: 1.0000, LR: 0.000000\n",
      "EarlyStopping counter: 5 out of 5\n",
      "Early stopping\n"
     ]
    }
   ],
   "source": [
    "current_time = datetime.datetime.now().strftime(\"%Y%m%d-%H%M%S\")\n",
    "log_dir = f'runs/FFNN_{current_time}'\n",
    "writer = SummaryWriter(log_dir)\n",
    "\n",
    "early_stopping = EarlyStopping(patience=5, verbose=True)\n",
    "\n",
    "num_epochs = 100\n",
    "for epoch in range(num_epochs):\n",
    "    model.train()\n",
    "    total_loss = 0\n",
    "    all_labels = []\n",
    "    all_predictions = []\n",
    "    \n",
    "    for inputs, labels in train_loader:\n",
    "        optimizer.zero_grad()\n",
    "        outputs = model(inputs)\n",
    "        loss = criterion(outputs, labels)\n",
    "        loss.backward()\n",
    "        optimizer.step()\n",
    "        \n",
    "        total_loss += loss.item()\n",
    "        _, predicted = torch.max(outputs.data, 1)\n",
    "        \n",
    "        all_labels.extend(labels.cpu().numpy())\n",
    "        all_predictions.extend(predicted.cpu().numpy())\n",
    "    \n",
    "    avg_loss = total_loss / len(train_loader)\n",
    "    train_accuracy = 100 * np.mean(np.array(all_labels) == np.array(all_predictions))\n",
    "    train_f1 = f1_score(all_labels, all_predictions, average='weighted')\n",
    "    \n",
    "    # Log training metrics\n",
    "    writer.add_scalar('Loss/Train', avg_loss, epoch)\n",
    "    writer.add_scalar('Accuracy/Train', train_accuracy, epoch)\n",
    "    writer.add_scalar('F1 Score/Train', train_f1, epoch)\n",
    "    \n",
    "    # Validation step\n",
    "    model.eval()\n",
    "    val_loss = 0\n",
    "    all_labels = []\n",
    "    all_predictions = []\n",
    "    with torch.no_grad():\n",
    "        for inputs, labels in val_loader:\n",
    "            outputs = model(inputs)\n",
    "            loss = criterion(outputs, labels)\n",
    "            val_loss += loss.item()\n",
    "            _, predicted = torch.max(outputs.data, 1)\n",
    "            \n",
    "            all_labels.extend(labels.cpu().numpy())\n",
    "            all_predictions.extend(predicted.cpu().numpy())\n",
    "        \n",
    "        avg_val_loss = val_loss / len(val_loader)\n",
    "        val_accuracy = 100 * np.mean(np.array(all_labels) == np.array(all_predictions))\n",
    "        val_f1 = f1_score(all_labels, all_predictions, average='weighted')\n",
    "        \n",
    "        # Log validation metrics\n",
    "        writer.add_scalar('Loss/Validation', avg_val_loss, epoch)\n",
    "        writer.add_scalar('Accuracy/Validation', val_accuracy, epoch)\n",
    "        writer.add_scalar('F1 Score/Validation', val_f1, epoch)\n",
    "    \n",
    "    # Log learning rate\n",
    "    current_lr = optimizer.param_groups[0]['lr']\n",
    "    writer.add_scalar('Learning Rate', current_lr, epoch)\n",
    "    \n",
    "    # if epoch % 10 == 0:\n",
    "    print(f'Epoch [{epoch}/{num_epochs}], Train Loss: {avg_loss:.4f}, Train Acc: {train_accuracy:.2f}%, Train F1: {train_f1:.4f}, '\n",
    "            f'Val Loss: {avg_val_loss:.4f}, Val Acc: {val_accuracy:.2f}%, Val F1: {val_f1:.4f}, LR: {current_lr:.6f}')\n",
    "    early_stopping(avg_val_loss, model)\n",
    "    if early_stopping.early_stop:\n",
    "        print(\"Early stopping\")\n",
    "        break\n",
    "\n",
    "    if scheduler:\n",
    "        scheduler.step()\n",
    "\n",
    "model.load_state_dict(torch.load('checkpoint.pt'))\n",
    "\n",
    "writer.close()"
   ]
  },
  {
   "cell_type": "code",
   "execution_count": 193,
   "metadata": {},
   "outputs": [],
   "source": [
    "from sklearn.metrics import confusion_matrix, classification_report"
   ]
  },
  {
   "cell_type": "code",
   "execution_count": 194,
   "metadata": {},
   "outputs": [
    {
     "name": "stdout",
     "output_type": "stream",
     "text": [
      "              precision    recall  f1-score   support\n",
      "\n",
      "           0       1.00      1.00      1.00      6804\n",
      "           1       1.00      1.00      1.00      3402\n",
      "           2       1.00      1.00      1.00      3402\n",
      "\n",
      "    accuracy                           1.00     13608\n",
      "   macro avg       1.00      1.00      1.00     13608\n",
      "weighted avg       1.00      1.00      1.00     13608\n",
      "\n"
     ]
    },
    {
     "data": {
      "image/png": "[encoded data removed]",
      "text/plain": [
       "<Figure size 1000x800 with 2 Axes>"
      ]
     },
     "metadata": {},
     "output_type": "display_data"
    }
   ],
   "source": [
    "def test_model(model, test_loader):\n",
    "    model.eval()\n",
    "    all_predictions = []\n",
    "    all_labels = []\n",
    "    \n",
    "    with torch.no_grad():\n",
    "        for inputs, labels in test_loader:\n",
    "            outputs = model(inputs)\n",
    "            _, predicted = torch.max(outputs, 1)\n",
    "            \n",
    "            all_predictions.extend(predicted.cpu().numpy())\n",
    "            all_labels.extend(labels.cpu().numpy())\n",
    "    \n",
    "    return np.array(all_predictions), np.array(all_labels)\n",
    "\n",
    "y_pred, y_true = test_model(model, test_loader)\n",
    "\n",
    "# Calculate and print the classification report\n",
    "print(classification_report(y_true, y_pred))\n",
    "\n",
    "# Calculate the confusion matrix\n",
    "cm = confusion_matrix(y_true, y_pred)\n",
    "\n",
    "# Plot the confusion matrix\n",
    "plt.figure(figsize=(10,8))\n",
    "sns.heatmap(cm, annot=True, fmt='d', cmap='Blues')\n",
    "plt.title('Confusion Matrix')\n",
    "plt.ylabel('True Label')\n",
    "plt.xlabel('Predicted Label')\n",
    "plt.show()\n",
    "\n",
    "# If you're using TensorBoard, you can also add the confusion matrix as a figure\n",
    "writer.add_figure('Confusion Matrix', plt.gcf())"
   ]
  },
  {
   "cell_type": "code",
   "execution_count": 198,
   "metadata": {},
   "outputs": [
    {
     "data": {
      "image/png": "[encoded data removed]",
      "text/plain": [
       "<Figure size 1000x800 with 2 Axes>"
      ]
     },
     "metadata": {},
     "output_type": "display_data"
    }
   ],
   "source": [
    "# Normalize the confusion matrix\n",
    "cm_normalized = cm.astype('float') / cm.sum(axis=1)[:, np.newaxis]\n",
    "\n",
    "# Plot the normalized confusion matrix\n",
    "plt.figure(figsize=(10,8))\n",
    "sns.heatmap(cm_normalized, annot=True, fmt='.2f', cmap='Blues')\n",
    "plt.title('Normalized Confusion Matrix')\n",
    "plt.ylabel('True Label')\n",
    "plt.xlabel('Predicted Label')\n",
    "plt.show()"
   ]
  },
  {
   "cell_type": "code",
   "execution_count": 197,
   "metadata": {},
   "outputs": [
    {
     "name": "stdout",
     "output_type": "stream",
     "text": [
      "Class 0:\n",
      "  Precision: 1.0000\n",
      "  Recall: 1.0000\n",
      "  F1-score: 1.0000\n",
      "\n",
      "Class 1:\n",
      "  Precision: 1.0000\n",
      "  Recall: 1.0000\n",
      "  F1-score: 1.0000\n",
      "\n",
      "Class 2:\n",
      "  Precision: 1.0000\n",
      "  Recall: 1.0000\n",
      "  F1-score: 1.0000\n",
      "\n"
     ]
    }
   ],
   "source": [
    "from sklearn.metrics import precision_recall_fscore_support\n",
    "\n",
    "precision, recall, f1, _ = precision_recall_fscore_support(y_true, y_pred, average=None)\n",
    "\n",
    "for i in range(len(precision)):\n",
    "    print(f\"Class {i}:\")\n",
    "    print(f\"  Precision: {precision[i]:.4f}\")\n",
    "    print(f\"  Recall: {recall[i]:.4f}\")\n",
    "    print(f\"  F1-score: {f1[i]:.4f}\")\n",
    "    print()"
   ]
  },
  {
   "cell_type": "code",
   "execution_count": null,
   "metadata": {},
   "outputs": [],
   "source": []
  }
 ],
 "metadata": {
  "kernelspec": {
   "display_name": "pytorch2.3",
   "language": "python",
   "name": "python3"
  },
  "language_info": {
   "codemirror_mode": {
    "name": "ipython",
    "version": 3
   },
   "file_extension": ".py",
   "mimetype": "text/x-python",
   "name": "python",
   "nbconvert_exporter": "python",
   "pygments_lexer": "ipython3",
   "version": "3.12.3"
  }
 },
 "nbformat": 4,
 "nbformat_minor": 2
}
